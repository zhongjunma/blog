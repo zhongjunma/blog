{
 "cells": [
  {
   "cell_type": "markdown",
   "id": "36c8333e",
   "metadata": {},
   "source": [
    "# JSON 数据解析\n",
    "\n",
    "JSON (JavaScript Object Notation) 是一种轻量级的数据交换格式。使用 Python 中的 `json` package 可以快速处理。"
   ]
  },
  {
   "cell_type": "markdown",
   "id": "98c23de9",
   "metadata": {},
   "source": [
    "Python 对象转化为 JSON 字符串（`json.dumps()`）"
   ]
  },
  {
   "cell_type": "code",
   "execution_count": 1,
   "id": "3f2613bb",
   "metadata": {},
   "outputs": [
    {
     "data": {
      "text/plain": [
       "'{\"no\": 1, \"name\": \"Runoob\", \"url\": \"http://www.runoob.com\"}'"
      ]
     },
     "execution_count": 1,
     "metadata": {},
     "output_type": "execute_result"
    }
   ],
   "source": [
    "import json\n",
    "\n",
    "data = {\n",
    "    'no' : 1,\n",
    "    'name' : 'Runoob',\n",
    "    'url' : 'http://www.runoob.com'\n",
    "}\n",
    "\n",
    "json_str = json.dumps(data)\n",
    "json_str"
   ]
  },
  {
   "cell_type": "markdown",
   "id": "8906c4cf",
   "metadata": {},
   "source": [
    "JSON 字符串转化为 Python 对象（`json.loads()`）"
   ]
  },
  {
   "cell_type": "code",
   "execution_count": 2,
   "id": "54880ae2",
   "metadata": {},
   "outputs": [
    {
     "data": {
      "text/plain": [
       "{'no': 1, 'name': 'Runoob', 'url': 'http://www.runoob.com'}"
      ]
     },
     "execution_count": 2,
     "metadata": {},
     "output_type": "execute_result"
    }
   ],
   "source": [
    "json.loads(json_str)"
   ]
  },
  {
   "cell_type": "markdown",
   "id": "2de261ee",
   "metadata": {},
   "source": [
    "写 JSON 文件（`json.dump()`）"
   ]
  },
  {
   "cell_type": "code",
   "execution_count": 3,
   "id": "c5d96589",
   "metadata": {
    "tags": [
     "remove-cell"
    ]
   },
   "outputs": [],
   "source": [
    "file_path = './data/json_example.json'"
   ]
  },
  {
   "cell_type": "code",
   "execution_count": 4,
   "id": "03558893",
   "metadata": {},
   "outputs": [],
   "source": [
    "with open(file_path, 'w') as f:\n",
    "    json.dump(data, f)"
   ]
  },
  {
   "cell_type": "markdown",
   "id": "ea76fbc2",
   "metadata": {},
   "source": [
    "读 JSON 文件（`json.load()`）"
   ]
  },
  {
   "cell_type": "code",
   "execution_count": 5,
   "id": "f9ab59a8",
   "metadata": {},
   "outputs": [
    {
     "data": {
      "text/plain": [
       "{'no': 1, 'name': 'Runoob', 'url': 'http://www.runoob.com'}"
      ]
     },
     "execution_count": 5,
     "metadata": {},
     "output_type": "execute_result"
    }
   ],
   "source": [
    "with open(file_path, 'r') as f:\n",
    "    data = json.load(f)\n",
    "data"
   ]
  }
 ],
 "metadata": {
  "celltoolbar": "原始单元格格式",
  "hide_input": false,
  "kernelspec": {
   "display_name": "nbenv",
   "language": "python",
   "name": "nbenv"
  },
  "language_info": {
   "codemirror_mode": {
    "name": "ipython",
    "version": 3
   },
   "file_extension": ".py",
   "mimetype": "text/x-python",
   "name": "python",
   "nbconvert_exporter": "python",
   "pygments_lexer": "ipython3",
   "version": "3.8.10"
  },
  "toc": {
   "base_numbering": 1,
   "nav_menu": {},
   "number_sections": true,
   "sideBar": true,
   "skip_h1_title": false,
   "title_cell": "Table of Contents",
   "title_sidebar": "Contents",
   "toc_cell": false,
   "toc_position": {},
   "toc_section_display": true,
   "toc_window_display": false
  },
  "varInspector": {
   "cols": {
    "lenName": 16,
    "lenType": 16,
    "lenVar": 40
   },
   "kernels_config": {
    "python": {
     "delete_cmd_postfix": "",
     "delete_cmd_prefix": "del ",
     "library": "var_list.py",
     "varRefreshCmd": "print(var_dic_list())"
    },
    "r": {
     "delete_cmd_postfix": ") ",
     "delete_cmd_prefix": "rm(",
     "library": "var_list.r",
     "varRefreshCmd": "cat(var_dic_list()) "
    }
   },
   "types_to_exclude": [
    "module",
    "function",
    "builtin_function_or_method",
    "instance",
    "_Feature"
   ],
   "window_display": false
  }
 },
 "nbformat": 4,
 "nbformat_minor": 5
}
