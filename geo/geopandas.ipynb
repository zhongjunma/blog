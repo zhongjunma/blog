{
 "cells": [
  {
   "cell_type": "markdown",
   "id": "66b67189",
   "metadata": {},
   "source": [
    "# Geopandas\n",
    "\n",
    "Geopandas 可以用来快速处理 GIS 数据，它的操作逻辑和 pandas 相同。geopandas 中最主要的类型是 `geopandas.GeoSeries`，所有的操作都是基于 `geopandas.GeoSeries` 进行的。而 `geopandas.GeoDataFrame` 中需要指定一列作为 **geometry**，geometry 就是 `geopandas.GeoSeries`。\n",
    "\n",
    "什么是 geometry？这个就需要去看一下 [`shapely`](https://shapely.readthedocs.io/en/stable/) 中的解释了。"
   ]
  },
  {
   "cell_type": "markdown",
   "id": "33f9548c",
   "metadata": {},
   "source": [
    "## 读写数据 "
   ]
  },
  {
   "cell_type": "markdown",
   "id": "c4bf7746",
   "metadata": {},
   "source": [
    "### 从 `pandas.DataFrame` 中创建 `geopandas.GeoDataFrame`\n",
    "\n",
    "通常来说，这是所有操作的起点，可以将 AIS 数据中的 latitude 和 longitude 转化为 geometry。"
   ]
  },
  {
   "cell_type": "code",
   "execution_count": 9,
   "id": "aa6a1b00",
   "metadata": {},
   "outputs": [],
   "source": [
    "import geopandas as gpd\n",
    "import pandas as pd"
   ]
  },
  {
   "cell_type": "code",
   "execution_count": 10,
   "id": "fa01d8ef",
   "metadata": {
    "tags": [
     "remove-cell"
    ]
   },
   "outputs": [],
   "source": [
    "file_path = './data/ais_Dalian_201801'\n",
    "df = pd.read_csv(f'{file_path}.csv', sep='|', header=0)"
   ]
  },
  {
   "cell_type": "code",
   "execution_count": 11,
   "id": "5054c7c9",
   "metadata": {},
   "outputs": [
    {
     "data": {
      "text/html": [
       "<div>\n",
       "<style scoped>\n",
       "    .dataframe tbody tr th:only-of-type {\n",
       "        vertical-align: middle;\n",
       "    }\n",
       "\n",
       "    .dataframe tbody tr th {\n",
       "        vertical-align: top;\n",
       "    }\n",
       "\n",
       "    .dataframe thead th {\n",
       "        text-align: right;\n",
       "    }\n",
       "</style>\n",
       "<table border=\"1\" class=\"dataframe\">\n",
       "  <thead>\n",
       "    <tr style=\"text-align: right;\">\n",
       "      <th></th>\n",
       "      <th>imo</th>\n",
       "      <th>timestamp</th>\n",
       "      <th>latitude</th>\n",
       "      <th>longitude</th>\n",
       "      <th>speed</th>\n",
       "      <th>heading</th>\n",
       "    </tr>\n",
       "  </thead>\n",
       "  <tbody>\n",
       "    <tr>\n",
       "      <th>0</th>\n",
       "      <td>9244635</td>\n",
       "      <td>2018-01-31 23:17:54</td>\n",
       "      <td>39.010473</td>\n",
       "      <td>121.689498</td>\n",
       "      <td>0.0</td>\n",
       "      <td>359.0</td>\n",
       "    </tr>\n",
       "    <tr>\n",
       "      <th>1</th>\n",
       "      <td>9244635</td>\n",
       "      <td>2018-01-31 22:11:53</td>\n",
       "      <td>39.010498</td>\n",
       "      <td>121.689528</td>\n",
       "      <td>0.0</td>\n",
       "      <td>359.0</td>\n",
       "    </tr>\n",
       "    <tr>\n",
       "      <th>2</th>\n",
       "      <td>9244635</td>\n",
       "      <td>2018-01-31 21:05:51</td>\n",
       "      <td>39.010495</td>\n",
       "      <td>121.689470</td>\n",
       "      <td>0.0</td>\n",
       "      <td>359.0</td>\n",
       "    </tr>\n",
       "    <tr>\n",
       "      <th>3</th>\n",
       "      <td>9244635</td>\n",
       "      <td>2018-01-31 20:05:50</td>\n",
       "      <td>39.010525</td>\n",
       "      <td>121.689487</td>\n",
       "      <td>0.0</td>\n",
       "      <td>359.0</td>\n",
       "    </tr>\n",
       "    <tr>\n",
       "      <th>4</th>\n",
       "      <td>9244635</td>\n",
       "      <td>2018-01-31 18:53:48</td>\n",
       "      <td>39.010502</td>\n",
       "      <td>121.689485</td>\n",
       "      <td>0.0</td>\n",
       "      <td>359.0</td>\n",
       "    </tr>\n",
       "  </tbody>\n",
       "</table>\n",
       "</div>"
      ],
      "text/plain": [
       "       imo            timestamp   latitude   longitude  speed  heading\n",
       "0  9244635  2018-01-31 23:17:54  39.010473  121.689498    0.0    359.0\n",
       "1  9244635  2018-01-31 22:11:53  39.010498  121.689528    0.0    359.0\n",
       "2  9244635  2018-01-31 21:05:51  39.010495  121.689470    0.0    359.0\n",
       "3  9244635  2018-01-31 20:05:50  39.010525  121.689487    0.0    359.0\n",
       "4  9244635  2018-01-31 18:53:48  39.010502  121.689485    0.0    359.0"
      ]
     },
     "execution_count": 11,
     "metadata": {},
     "output_type": "execute_result"
    }
   ],
   "source": [
    "df.head()"
   ]
  },
  {
   "cell_type": "code",
   "execution_count": 12,
   "id": "52a566f9",
   "metadata": {},
   "outputs": [
    {
     "data": {
      "text/html": [
       "<div>\n",
       "<style scoped>\n",
       "    .dataframe tbody tr th:only-of-type {\n",
       "        vertical-align: middle;\n",
       "    }\n",
       "\n",
       "    .dataframe tbody tr th {\n",
       "        vertical-align: top;\n",
       "    }\n",
       "\n",
       "    .dataframe thead th {\n",
       "        text-align: right;\n",
       "    }\n",
       "</style>\n",
       "<table border=\"1\" class=\"dataframe\">\n",
       "  <thead>\n",
       "    <tr style=\"text-align: right;\">\n",
       "      <th></th>\n",
       "      <th>imo</th>\n",
       "      <th>timestamp</th>\n",
       "      <th>latitude</th>\n",
       "      <th>longitude</th>\n",
       "      <th>speed</th>\n",
       "      <th>heading</th>\n",
       "      <th>geometry</th>\n",
       "    </tr>\n",
       "  </thead>\n",
       "  <tbody>\n",
       "    <tr>\n",
       "      <th>0</th>\n",
       "      <td>9244635</td>\n",
       "      <td>2018-01-31 23:17:54</td>\n",
       "      <td>39.010473</td>\n",
       "      <td>121.689498</td>\n",
       "      <td>0.0</td>\n",
       "      <td>359.0</td>\n",
       "      <td>POINT (121.68950 39.01047)</td>\n",
       "    </tr>\n",
       "    <tr>\n",
       "      <th>1</th>\n",
       "      <td>9244635</td>\n",
       "      <td>2018-01-31 22:11:53</td>\n",
       "      <td>39.010498</td>\n",
       "      <td>121.689528</td>\n",
       "      <td>0.0</td>\n",
       "      <td>359.0</td>\n",
       "      <td>POINT (121.68953 39.01050)</td>\n",
       "    </tr>\n",
       "    <tr>\n",
       "      <th>2</th>\n",
       "      <td>9244635</td>\n",
       "      <td>2018-01-31 21:05:51</td>\n",
       "      <td>39.010495</td>\n",
       "      <td>121.689470</td>\n",
       "      <td>0.0</td>\n",
       "      <td>359.0</td>\n",
       "      <td>POINT (121.68947 39.01049)</td>\n",
       "    </tr>\n",
       "    <tr>\n",
       "      <th>3</th>\n",
       "      <td>9244635</td>\n",
       "      <td>2018-01-31 20:05:50</td>\n",
       "      <td>39.010525</td>\n",
       "      <td>121.689487</td>\n",
       "      <td>0.0</td>\n",
       "      <td>359.0</td>\n",
       "      <td>POINT (121.68949 39.01053)</td>\n",
       "    </tr>\n",
       "    <tr>\n",
       "      <th>4</th>\n",
       "      <td>9244635</td>\n",
       "      <td>2018-01-31 18:53:48</td>\n",
       "      <td>39.010502</td>\n",
       "      <td>121.689485</td>\n",
       "      <td>0.0</td>\n",
       "      <td>359.0</td>\n",
       "      <td>POINT (121.68949 39.01050)</td>\n",
       "    </tr>\n",
       "  </tbody>\n",
       "</table>\n",
       "</div>"
      ],
      "text/plain": [
       "       imo            timestamp   latitude   longitude  speed  heading  \\\n",
       "0  9244635  2018-01-31 23:17:54  39.010473  121.689498    0.0    359.0   \n",
       "1  9244635  2018-01-31 22:11:53  39.010498  121.689528    0.0    359.0   \n",
       "2  9244635  2018-01-31 21:05:51  39.010495  121.689470    0.0    359.0   \n",
       "3  9244635  2018-01-31 20:05:50  39.010525  121.689487    0.0    359.0   \n",
       "4  9244635  2018-01-31 18:53:48  39.010502  121.689485    0.0    359.0   \n",
       "\n",
       "                     geometry  \n",
       "0  POINT (121.68950 39.01047)  \n",
       "1  POINT (121.68953 39.01050)  \n",
       "2  POINT (121.68947 39.01049)  \n",
       "3  POINT (121.68949 39.01053)  \n",
       "4  POINT (121.68949 39.01050)  "
      ]
     },
     "execution_count": 12,
     "metadata": {},
     "output_type": "execute_result"
    }
   ],
   "source": [
    "gdf = gpd.GeoDataFrame(df, crs='EPSG:4326', geometry=gpd.points_from_xy(df['longitude'], df['latitude']))\n",
    "gdf.head()"
   ]
  },
  {
   "cell_type": "markdown",
   "id": "39db923f",
   "metadata": {},
   "source": [
    "### 将 `geopandas.GeoDataFrame` 保存为 `.geojson` 文件\n",
    "\n",
    "`.geojson` 是保存 GIS 数据的一种常用文件类型。"
   ]
  },
  {
   "cell_type": "code",
   "execution_count": 13,
   "id": "acee7e64",
   "metadata": {},
   "outputs": [],
   "source": [
    "gdf.to_file(f'{file_path}.geojson', driver='GeoJSON')"
   ]
  },
  {
   "cell_type": "markdown",
   "id": "37cdad33",
   "metadata": {},
   "source": [
    "### 从 `.geojson` 中创建 `geopandas.GeoDataFrame`"
   ]
  },
  {
   "cell_type": "code",
   "execution_count": 14,
   "id": "8875b955",
   "metadata": {},
   "outputs": [
    {
     "data": {
      "text/html": [
       "<div>\n",
       "<style scoped>\n",
       "    .dataframe tbody tr th:only-of-type {\n",
       "        vertical-align: middle;\n",
       "    }\n",
       "\n",
       "    .dataframe tbody tr th {\n",
       "        vertical-align: top;\n",
       "    }\n",
       "\n",
       "    .dataframe thead th {\n",
       "        text-align: right;\n",
       "    }\n",
       "</style>\n",
       "<table border=\"1\" class=\"dataframe\">\n",
       "  <thead>\n",
       "    <tr style=\"text-align: right;\">\n",
       "      <th></th>\n",
       "      <th>imo</th>\n",
       "      <th>timestamp</th>\n",
       "      <th>latitude</th>\n",
       "      <th>longitude</th>\n",
       "      <th>speed</th>\n",
       "      <th>heading</th>\n",
       "      <th>geometry</th>\n",
       "    </tr>\n",
       "  </thead>\n",
       "  <tbody>\n",
       "    <tr>\n",
       "      <th>0</th>\n",
       "      <td>9244635</td>\n",
       "      <td>2018-01-31T23:17:54</td>\n",
       "      <td>39.010473</td>\n",
       "      <td>121.689498</td>\n",
       "      <td>0.0</td>\n",
       "      <td>359.0</td>\n",
       "      <td>POINT (121.68950 39.01047)</td>\n",
       "    </tr>\n",
       "    <tr>\n",
       "      <th>1</th>\n",
       "      <td>9244635</td>\n",
       "      <td>2018-01-31T22:11:53</td>\n",
       "      <td>39.010498</td>\n",
       "      <td>121.689528</td>\n",
       "      <td>0.0</td>\n",
       "      <td>359.0</td>\n",
       "      <td>POINT (121.68953 39.01050)</td>\n",
       "    </tr>\n",
       "    <tr>\n",
       "      <th>2</th>\n",
       "      <td>9244635</td>\n",
       "      <td>2018-01-31T21:05:51</td>\n",
       "      <td>39.010495</td>\n",
       "      <td>121.689470</td>\n",
       "      <td>0.0</td>\n",
       "      <td>359.0</td>\n",
       "      <td>POINT (121.68947 39.01049)</td>\n",
       "    </tr>\n",
       "    <tr>\n",
       "      <th>3</th>\n",
       "      <td>9244635</td>\n",
       "      <td>2018-01-31T20:05:50</td>\n",
       "      <td>39.010525</td>\n",
       "      <td>121.689487</td>\n",
       "      <td>0.0</td>\n",
       "      <td>359.0</td>\n",
       "      <td>POINT (121.68949 39.01053)</td>\n",
       "    </tr>\n",
       "    <tr>\n",
       "      <th>4</th>\n",
       "      <td>9244635</td>\n",
       "      <td>2018-01-31T18:53:48</td>\n",
       "      <td>39.010502</td>\n",
       "      <td>121.689485</td>\n",
       "      <td>0.0</td>\n",
       "      <td>359.0</td>\n",
       "      <td>POINT (121.68949 39.01050)</td>\n",
       "    </tr>\n",
       "  </tbody>\n",
       "</table>\n",
       "</div>"
      ],
      "text/plain": [
       "       imo            timestamp   latitude   longitude  speed  heading  \\\n",
       "0  9244635  2018-01-31T23:17:54  39.010473  121.689498    0.0    359.0   \n",
       "1  9244635  2018-01-31T22:11:53  39.010498  121.689528    0.0    359.0   \n",
       "2  9244635  2018-01-31T21:05:51  39.010495  121.689470    0.0    359.0   \n",
       "3  9244635  2018-01-31T20:05:50  39.010525  121.689487    0.0    359.0   \n",
       "4  9244635  2018-01-31T18:53:48  39.010502  121.689485    0.0    359.0   \n",
       "\n",
       "                     geometry  \n",
       "0  POINT (121.68950 39.01047)  \n",
       "1  POINT (121.68953 39.01050)  \n",
       "2  POINT (121.68947 39.01049)  \n",
       "3  POINT (121.68949 39.01053)  \n",
       "4  POINT (121.68949 39.01050)  "
      ]
     },
     "execution_count": 14,
     "metadata": {},
     "output_type": "execute_result"
    }
   ],
   "source": [
    "gdf = gpd.read_file(f'{file_path}.geojson')\n",
    "gdf.head()"
   ]
  },
  {
   "cell_type": "markdown",
   "id": "0efb1626",
   "metadata": {},
   "source": [
    "## Coordinate Reference Systems\n",
    "\n",
    "Coordinate Reference Systems（CRS）是 GIS 中一个非常重要的概念。在我们记录的数据中，通常只保留有点的坐标信息。我们必须告诉程序如何将坐标投影到地球上的真实点。\n",
    "\n",
    "AIS 数据中记录的是经纬度坐标，它的 CRS 是 WGS84 latitude-longitude projection，是世界上最常见的 CRS，也称作 EPSG:4326，它的单位（unit）是度（degree）。\n",
    "\n",
    "有时候我们需要以米（meter）为单位，这就需要我们更换成以米为单位的 CRS，需要注意的是，将地球转化为平面的过程中，难免会出现拉伸、变形，导致准确度下降。因此，不同的 CRS 是有使用范围（area of use）的。另一个较为常用的以米为单位的 CRS 是 EPSG:3857，它的使用范围是 $85^\\circ S \\sim 85^\\circ N$，在低纬度时，精度较高，在高纬度时，变形程度较大。考虑到港口、航线在高纬地区较少，因此我认为，在 AIS 相关计算中使用 EPSG:3857 同样是比较合理的。\n",
    "\n",
    "| CRS       | Unit   | Area of use                                     |\n",
    "| --------- | ------ | ----------------------------------------------- |\n",
    "| EPSG:4326 | degree | World                                           |\n",
    "| EPSG:3857 | meter  | World between $85^\\circ.06S$ and $85^\\circ.06N$ |\n",
    "\n",
    "利用 geopandas，我们可以进行 CRS 的快速变换。"
   ]
  },
  {
   "cell_type": "markdown",
   "id": "a9afa67c",
   "metadata": {},
   "source": [
    "### 查看 geometry 的 CRS"
   ]
  },
  {
   "cell_type": "code",
   "execution_count": 16,
   "id": "9a29f7e9",
   "metadata": {},
   "outputs": [
    {
     "data": {
      "text/plain": [
       "<Geographic 2D CRS: EPSG:4326>\n",
       "Name: WGS 84\n",
       "Axis Info [ellipsoidal]:\n",
       "- Lat[north]: Geodetic latitude (degree)\n",
       "- Lon[east]: Geodetic longitude (degree)\n",
       "Area of Use:\n",
       "- name: World.\n",
       "- bounds: (-180.0, -90.0, 180.0, 90.0)\n",
       "Datum: World Geodetic System 1984 ensemble\n",
       "- Ellipsoid: WGS 84\n",
       "- Prime Meridian: Greenwich"
      ]
     },
     "execution_count": 16,
     "metadata": {},
     "output_type": "execute_result"
    }
   ],
   "source": [
    "gdf.crs"
   ]
  },
  {
   "cell_type": "markdown",
   "id": "3a9a2d60",
   "metadata": {},
   "source": [
    "### 转换 geometry 的 CRS"
   ]
  },
  {
   "cell_type": "code",
   "execution_count": 17,
   "id": "c61a02f7",
   "metadata": {},
   "outputs": [
    {
     "data": {
      "text/plain": [
       "<Projected CRS: EPSG:3857>\n",
       "Name: WGS 84 / Pseudo-Mercator\n",
       "Axis Info [cartesian]:\n",
       "- X[east]: Easting (metre)\n",
       "- Y[north]: Northing (metre)\n",
       "Area of Use:\n",
       "- name: World between 85.06°S and 85.06°N.\n",
       "- bounds: (-180.0, -85.06, 180.0, 85.06)\n",
       "Coordinate Operation:\n",
       "- name: Popular Visualisation Pseudo-Mercator\n",
       "- method: Popular Visualisation Pseudo Mercator\n",
       "Datum: World Geodetic System 1984 ensemble\n",
       "- Ellipsoid: WGS 84\n",
       "- Prime Meridian: Greenwich"
      ]
     },
     "execution_count": 17,
     "metadata": {},
     "output_type": "execute_result"
    }
   ],
   "source": [
    "gdf = gdf.to_crs('EPSG:3857')\n",
    "gdf.crs"
   ]
  }
 ],
 "metadata": {
  "celltoolbar": "Tags",
  "hide_input": false,
  "kernelspec": {
   "display_name": "Python 3 (ipykernel)",
   "language": "python",
   "name": "python3"
  },
  "language_info": {
   "codemirror_mode": {
    "name": "ipython",
    "version": 3
   },
   "file_extension": ".py",
   "mimetype": "text/x-python",
   "name": "python",
   "nbconvert_exporter": "python",
   "pygments_lexer": "ipython3",
   "version": "3.9.7"
  },
  "toc": {
   "base_numbering": 1,
   "nav_menu": {},
   "number_sections": true,
   "sideBar": true,
   "skip_h1_title": false,
   "title_cell": "Table of Contents",
   "title_sidebar": "Contents",
   "toc_cell": false,
   "toc_position": {},
   "toc_section_display": true,
   "toc_window_display": false
  },
  "varInspector": {
   "cols": {
    "lenName": 16,
    "lenType": 16,
    "lenVar": 40
   },
   "kernels_config": {
    "python": {
     "delete_cmd_postfix": "",
     "delete_cmd_prefix": "del ",
     "library": "var_list.py",
     "varRefreshCmd": "print(var_dic_list())"
    },
    "r": {
     "delete_cmd_postfix": ") ",
     "delete_cmd_prefix": "rm(",
     "library": "var_list.r",
     "varRefreshCmd": "cat(var_dic_list()) "
    }
   },
   "types_to_exclude": [
    "module",
    "function",
    "builtin_function_or_method",
    "instance",
    "_Feature"
   ],
   "window_display": false
  }
 },
 "nbformat": 4,
 "nbformat_minor": 5
}
